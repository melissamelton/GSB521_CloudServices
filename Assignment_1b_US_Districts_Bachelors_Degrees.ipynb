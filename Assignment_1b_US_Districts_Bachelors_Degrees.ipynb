{
  "nbformat": 4,
  "nbformat_minor": 0,
  "metadata": {
    "colab": {
      "provenance": [],
      "include_colab_link": true
    },
    "kernelspec": {
      "name": "python3",
      "display_name": "Python 3"
    },
    "language_info": {
      "name": "python"
    }
  },
  "cells": [
    {
      "cell_type": "markdown",
      "metadata": {
        "id": "view-in-github",
        "colab_type": "text"
      },
      "source": [
        "<a href=\"https://colab.research.google.com/github/melissamelton/GSB521_CongressionalData/blob/main/Assignment_1b_US_Districts_Bachelors_Degrees.ipynb\" target=\"_parent\"><img src=\"https://colab.research.google.com/assets/colab-badge.svg\" alt=\"Open In Colab\"/></a>"
      ]
    },
    {
      "cell_type": "markdown",
      "source": [
        "# **The Relationship Between Political Affiliation and Educational Paths Amongst Congressional Districts in the United States**\n",
        "\n",
        "\n",
        "*By Melissa Melton (mnmelton@calpoly.edu) & Annika Bertelsen (abertels@calpoly.edu)*\n",
        "\n",
        "February 9, 2023"
      ],
      "metadata": {
        "id": "iJk6prLUJ7dC"
      }
    },
    {
      "cell_type": "markdown",
      "source": [
        "As you may recall, our original presentation of political party affiliation and educational path taken by state was aimed to analyze the household income gap between Democratic and Republican congressional districts. Per Pierce's analysis of household incomes and political parties, we saw that Democratic congressional districts had a higher proportion of houses earning over $200k. In our original analysis, we looked at political affiliation and Science/Engineering degrees by state and hypothesized that based on Pierce's findings, Democratic states would have higher proportions of their population with a Science/Engineering degree since we considered this the most lucrative degree category.\n",
        "\n",
        "To revamp our analysis, we have brought in all bachelor's degree categories recorded by American Community Survey for the total population over the age of 25 with a bachelor's or higher, as well as utilized the political affiliation data by congressional districts for all states. \n",
        "\n",
        "Note: the bachelor's degree categories Science/Engineering, Science/Engineering Related, Business, Education, and Arts/Humanities/Other were the predetermined categories provided by the ACS for respondents to select from. We are unsure the kind of specific degrees that respondents who selected Science/Engineering Related may have obtained.\n",
        "\n",
        "\n"
      ],
      "metadata": {
        "id": "sN_tRu5JKIum"
      }
    },
    {
      "cell_type": "markdown",
      "source": [
        "**Hypothesis:** With the expansion of our analysis to include all BA Degree Categories reported by ACS, our hypothesis remains that the districts with a high proportion of the total population above 25 with a Bachelor's degree in Science or Engineering will likely be districts that have a Democratic affiliation. We propose the Science or Engineering Related category will maybe be about evenly split. We also hypothesize that the Business Degree Category will be dominated by Republican congressional districts across the US, while Education and Arts/Humanities will have more frequent BA Degrees out of the total population for Democratic districts.\n",
        "\n",
        "This hypothesis is rooted in preconcieved notions/ sterotypes of Democratic vs Republican political affiliation with the idea that Democrats may value Education and Art/Humanity educational paths while Republicans might be more interested in a Business Degree route. Additionally, our hypothesis paralells the findings that Democratic districts have higher household earnings, since we believe Science and Engineering would be a high earning degree and therefore be higher in Democratic districts."
      ],
      "metadata": {
        "id": "aHFTAeyvj1QN"
      }
    },
    {
      "cell_type": "code",
      "source": [
        "import pandas as pd\n",
        "import json\n",
        "import matplotlib.pyplot as plt\n",
        "from urllib.request import urlopen\n",
        "import seaborn as sns\n",
        "from statsmodels.stats.weightstats import ztest"
      ],
      "metadata": {
        "id": "-iRiWTqTdFOO"
      },
      "execution_count": null,
      "outputs": []
    },
    {
      "cell_type": "markdown",
      "source": [
        "# ACS Data on Bachelor's Degrees"
      ],
      "metadata": {
        "id": "9Kj7zhiHdjUc"
      }
    },
    {
      "cell_type": "markdown",
      "source": [
        "Read in the data from ACS and perform initial cleaning."
      ],
      "metadata": {
        "id": "AKn7W4qQ-F54"
      }
    },
    {
      "cell_type": "markdown",
      "source": [
        "ACS: https://www.census.gov/data/developers/data-sets/acs-1year.html"
      ],
      "metadata": {
        "id": "RjJdGnAcXpXz"
      }
    },
    {
      "cell_type": "code",
      "source": [
        "# We are reading in the data we want from ACS 2021. The API returns json data.\n",
        "url=\"https://api.census.gov/data/2021/acs/acs1?get=NAME,C15010_001E,C15010_002E,C15010_003E,C15010_004E,C15010_005E,C15010_006E&for=congressional%20district:*&in=state:*\"\n",
        "\n",
        "# store the response of URL\n",
        "response = urlopen(url)\n",
        "\n",
        "# storing the JSON response from url in data\n",
        "data_json = json.loads(response.read())\n",
        "data_json.pop(0)\n",
        "\n",
        "# Hand populate the columns based on the variable descriptions census.gov documents here: https://api.census.gov/data/2021/acs/acs1/variables.html. Note they correspond back to the variable names I included in the URL above.\n",
        "cols = ['District Name','Total','Total Science and Engineering', 'Total Science and Engineering Related', 'Total Business', 'Total Education', 'Total Arts, Humanities, and Other', 'State Code', 'District Number']\n",
        "\n",
        "acs_df = pd.DataFrame(data_json, columns = cols)\n",
        "\n",
        "# Extract the district number and state in a regular format so we can later join with the party data.\n",
        "acs_df[['District', 'State']] = acs_df['District Name'].str.split(',', expand=True)\n",
        "acs_df['District Number'] = pd.to_numeric(acs_df['District Number'])\n",
        "\n",
        "acs_df['State'] = acs_df['State'].str.strip()\n",
        "\n",
        "# Keep only the columns we need. Keeping all Degree categories in version 1B vs. only Science/Engineering.\n",
        "acs_df = acs_df[['Total', 'Total Science and Engineering', 'Total Science and Engineering Related', 'Total Business', 'Total Education', 'Total Arts, Humanities, and Other', 'District Number', 'State']]\n",
        "\n",
        "acs_df.head()"
      ],
      "metadata": {
        "colab": {
          "base_uri": "https://localhost:8080/",
          "height": 206
        },
        "id": "bz9E2DJ5dIUs",
        "outputId": "82d52604-319c-4716-99fe-47724c7b687e"
      },
      "execution_count": null,
      "outputs": [
        {
          "output_type": "execute_result",
          "data": {
            "text/plain": [
              "    Total Total Science and Engineering Total Science and Engineering Related  \\\n",
              "0  129813                         36613                                 13261   \n",
              "1  109507                         34024                                  9084   \n",
              "2  126350                         34503                                 16188   \n",
              "3   95245                         24447                                 11817   \n",
              "4  193261                         79051                                 15525   \n",
              "\n",
              "  Total Business Total Education Total Arts, Humanities, and Other  \\\n",
              "0          31155           22498                             26286   \n",
              "1          25512           17721                             23166   \n",
              "2          26092           21026                             28541   \n",
              "3          19841           20422                             18718   \n",
              "4          40084           23294                             35307   \n",
              "\n",
              "   District Number    State  \n",
              "0                1  Alabama  \n",
              "1                2  Alabama  \n",
              "2                3  Alabama  \n",
              "3                4  Alabama  \n",
              "4                5  Alabama  "
            ],
            "text/html": [
              "\n",
              "  <div id=\"df-80c42ecd-373d-4d82-b41d-b2332e50cafa\">\n",
              "    <div class=\"colab-df-container\">\n",
              "      <div>\n",
              "<style scoped>\n",
              "    .dataframe tbody tr th:only-of-type {\n",
              "        vertical-align: middle;\n",
              "    }\n",
              "\n",
              "    .dataframe tbody tr th {\n",
              "        vertical-align: top;\n",
              "    }\n",
              "\n",
              "    .dataframe thead th {\n",
              "        text-align: right;\n",
              "    }\n",
              "</style>\n",
              "<table border=\"1\" class=\"dataframe\">\n",
              "  <thead>\n",
              "    <tr style=\"text-align: right;\">\n",
              "      <th></th>\n",
              "      <th>Total</th>\n",
              "      <th>Total Science and Engineering</th>\n",
              "      <th>Total Science and Engineering Related</th>\n",
              "      <th>Total Business</th>\n",
              "      <th>Total Education</th>\n",
              "      <th>Total Arts, Humanities, and Other</th>\n",
              "      <th>District Number</th>\n",
              "      <th>State</th>\n",
              "    </tr>\n",
              "  </thead>\n",
              "  <tbody>\n",
              "    <tr>\n",
              "      <th>0</th>\n",
              "      <td>129813</td>\n",
              "      <td>36613</td>\n",
              "      <td>13261</td>\n",
              "      <td>31155</td>\n",
              "      <td>22498</td>\n",
              "      <td>26286</td>\n",
              "      <td>1</td>\n",
              "      <td>Alabama</td>\n",
              "    </tr>\n",
              "    <tr>\n",
              "      <th>1</th>\n",
              "      <td>109507</td>\n",
              "      <td>34024</td>\n",
              "      <td>9084</td>\n",
              "      <td>25512</td>\n",
              "      <td>17721</td>\n",
              "      <td>23166</td>\n",
              "      <td>2</td>\n",
              "      <td>Alabama</td>\n",
              "    </tr>\n",
              "    <tr>\n",
              "      <th>2</th>\n",
              "      <td>126350</td>\n",
              "      <td>34503</td>\n",
              "      <td>16188</td>\n",
              "      <td>26092</td>\n",
              "      <td>21026</td>\n",
              "      <td>28541</td>\n",
              "      <td>3</td>\n",
              "      <td>Alabama</td>\n",
              "    </tr>\n",
              "    <tr>\n",
              "      <th>3</th>\n",
              "      <td>95245</td>\n",
              "      <td>24447</td>\n",
              "      <td>11817</td>\n",
              "      <td>19841</td>\n",
              "      <td>20422</td>\n",
              "      <td>18718</td>\n",
              "      <td>4</td>\n",
              "      <td>Alabama</td>\n",
              "    </tr>\n",
              "    <tr>\n",
              "      <th>4</th>\n",
              "      <td>193261</td>\n",
              "      <td>79051</td>\n",
              "      <td>15525</td>\n",
              "      <td>40084</td>\n",
              "      <td>23294</td>\n",
              "      <td>35307</td>\n",
              "      <td>5</td>\n",
              "      <td>Alabama</td>\n",
              "    </tr>\n",
              "  </tbody>\n",
              "</table>\n",
              "</div>\n",
              "      <button class=\"colab-df-convert\" onclick=\"convertToInteractive('df-80c42ecd-373d-4d82-b41d-b2332e50cafa')\"\n",
              "              title=\"Convert this dataframe to an interactive table.\"\n",
              "              style=\"display:none;\">\n",
              "        \n",
              "  <svg xmlns=\"http://www.w3.org/2000/svg\" height=\"24px\"viewBox=\"0 0 24 24\"\n",
              "       width=\"24px\">\n",
              "    <path d=\"M0 0h24v24H0V0z\" fill=\"none\"/>\n",
              "    <path d=\"M18.56 5.44l.94 2.06.94-2.06 2.06-.94-2.06-.94-.94-2.06-.94 2.06-2.06.94zm-11 1L8.5 8.5l.94-2.06 2.06-.94-2.06-.94L8.5 2.5l-.94 2.06-2.06.94zm10 10l.94 2.06.94-2.06 2.06-.94-2.06-.94-.94-2.06-.94 2.06-2.06.94z\"/><path d=\"M17.41 7.96l-1.37-1.37c-.4-.4-.92-.59-1.43-.59-.52 0-1.04.2-1.43.59L10.3 9.45l-7.72 7.72c-.78.78-.78 2.05 0 2.83L4 21.41c.39.39.9.59 1.41.59.51 0 1.02-.2 1.41-.59l7.78-7.78 2.81-2.81c.8-.78.8-2.07 0-2.86zM5.41 20L4 18.59l7.72-7.72 1.47 1.35L5.41 20z\"/>\n",
              "  </svg>\n",
              "      </button>\n",
              "      \n",
              "  <style>\n",
              "    .colab-df-container {\n",
              "      display:flex;\n",
              "      flex-wrap:wrap;\n",
              "      gap: 12px;\n",
              "    }\n",
              "\n",
              "    .colab-df-convert {\n",
              "      background-color: #E8F0FE;\n",
              "      border: none;\n",
              "      border-radius: 50%;\n",
              "      cursor: pointer;\n",
              "      display: none;\n",
              "      fill: #1967D2;\n",
              "      height: 32px;\n",
              "      padding: 0 0 0 0;\n",
              "      width: 32px;\n",
              "    }\n",
              "\n",
              "    .colab-df-convert:hover {\n",
              "      background-color: #E2EBFA;\n",
              "      box-shadow: 0px 1px 2px rgba(60, 64, 67, 0.3), 0px 1px 3px 1px rgba(60, 64, 67, 0.15);\n",
              "      fill: #174EA6;\n",
              "    }\n",
              "\n",
              "    [theme=dark] .colab-df-convert {\n",
              "      background-color: #3B4455;\n",
              "      fill: #D2E3FC;\n",
              "    }\n",
              "\n",
              "    [theme=dark] .colab-df-convert:hover {\n",
              "      background-color: #434B5C;\n",
              "      box-shadow: 0px 1px 3px 1px rgba(0, 0, 0, 0.15);\n",
              "      filter: drop-shadow(0px 1px 2px rgba(0, 0, 0, 0.3));\n",
              "      fill: #FFFFFF;\n",
              "    }\n",
              "  </style>\n",
              "\n",
              "      <script>\n",
              "        const buttonEl =\n",
              "          document.querySelector('#df-80c42ecd-373d-4d82-b41d-b2332e50cafa button.colab-df-convert');\n",
              "        buttonEl.style.display =\n",
              "          google.colab.kernel.accessAllowed ? 'block' : 'none';\n",
              "\n",
              "        async function convertToInteractive(key) {\n",
              "          const element = document.querySelector('#df-80c42ecd-373d-4d82-b41d-b2332e50cafa');\n",
              "          const dataTable =\n",
              "            await google.colab.kernel.invokeFunction('convertToInteractive',\n",
              "                                                     [key], {});\n",
              "          if (!dataTable) return;\n",
              "\n",
              "          const docLinkHtml = 'Like what you see? Visit the ' +\n",
              "            '<a target=\"_blank\" href=https://colab.research.google.com/notebooks/data_table.ipynb>data table notebook</a>'\n",
              "            + ' to learn more about interactive tables.';\n",
              "          element.innerHTML = '';\n",
              "          dataTable['output_type'] = 'display_data';\n",
              "          await google.colab.output.renderOutput(dataTable, element);\n",
              "          const docLink = document.createElement('div');\n",
              "          docLink.innerHTML = docLinkHtml;\n",
              "          element.appendChild(docLink);\n",
              "        }\n",
              "      </script>\n",
              "    </div>\n",
              "  </div>\n",
              "  "
            ]
          },
          "metadata": {},
          "execution_count": 2
        }
      ]
    },
    {
      "cell_type": "code",
      "source": [
        "# Make count data numeric\n",
        "cols = ['Total', 'Total Science and Engineering', 'Total Science and Engineering Related', 'Total Business', 'Total Education', 'Total Arts, Humanities, and Other']\n",
        "acs_df[cols] = acs_df[cols].apply(pd.to_numeric)\n",
        "\n",
        "# Lambda function to convert the count of individuals in each district with each degree into a proportion of the district total\n",
        "cols2 = ['Total Science and Engineering', 'Total Science and Engineering Related', 'Total Business', 'Total Education', 'Total Arts, Humanities, and Other']\n",
        "acs_df[cols2] = acs_df[cols2].apply(lambda x: 100*x / acs_df['Total'])\n",
        "\n",
        "# Rename columns\n",
        "acs_df.columns = acs_df.columns.str.replace(r'Total ', '% ')\n",
        "\n",
        "acs_df.head()"
      ],
      "metadata": {
        "colab": {
          "base_uri": "https://localhost:8080/",
          "height": 206
        },
        "id": "jxTCtMSCMIT4",
        "outputId": "1a7f0fec-556b-4f9b-fdbe-1ac46005f22e"
      },
      "execution_count": null,
      "outputs": [
        {
          "output_type": "execute_result",
          "data": {
            "text/plain": [
              "    Total  % Science and Engineering  % Science and Engineering Related  \\\n",
              "0  129813                  28.204417                          10.215464   \n",
              "1  109507                  31.070160                           8.295360   \n",
              "2  126350                  27.307479                          12.812030   \n",
              "3   95245                  25.667489                          12.406950   \n",
              "4  193261                  40.903752                           8.033178   \n",
              "\n",
              "   % Business  % Education  % Arts, Humanities, and Other  District Number  \\\n",
              "0   23.999908    17.331084                      20.249128                1   \n",
              "1   23.297141    16.182527                      21.154812                2   \n",
              "2   20.650574    16.641076                      22.588841                3   \n",
              "3   20.831540    21.441545                      19.652475                4   \n",
              "4   20.740863    12.053130                      18.269077                5   \n",
              "\n",
              "     State  \n",
              "0  Alabama  \n",
              "1  Alabama  \n",
              "2  Alabama  \n",
              "3  Alabama  \n",
              "4  Alabama  "
            ],
            "text/html": [
              "\n",
              "  <div id=\"df-dc554dc6-6d9c-4337-a727-c4913c6cf267\">\n",
              "    <div class=\"colab-df-container\">\n",
              "      <div>\n",
              "<style scoped>\n",
              "    .dataframe tbody tr th:only-of-type {\n",
              "        vertical-align: middle;\n",
              "    }\n",
              "\n",
              "    .dataframe tbody tr th {\n",
              "        vertical-align: top;\n",
              "    }\n",
              "\n",
              "    .dataframe thead th {\n",
              "        text-align: right;\n",
              "    }\n",
              "</style>\n",
              "<table border=\"1\" class=\"dataframe\">\n",
              "  <thead>\n",
              "    <tr style=\"text-align: right;\">\n",
              "      <th></th>\n",
              "      <th>Total</th>\n",
              "      <th>% Science and Engineering</th>\n",
              "      <th>% Science and Engineering Related</th>\n",
              "      <th>% Business</th>\n",
              "      <th>% Education</th>\n",
              "      <th>% Arts, Humanities, and Other</th>\n",
              "      <th>District Number</th>\n",
              "      <th>State</th>\n",
              "    </tr>\n",
              "  </thead>\n",
              "  <tbody>\n",
              "    <tr>\n",
              "      <th>0</th>\n",
              "      <td>129813</td>\n",
              "      <td>28.204417</td>\n",
              "      <td>10.215464</td>\n",
              "      <td>23.999908</td>\n",
              "      <td>17.331084</td>\n",
              "      <td>20.249128</td>\n",
              "      <td>1</td>\n",
              "      <td>Alabama</td>\n",
              "    </tr>\n",
              "    <tr>\n",
              "      <th>1</th>\n",
              "      <td>109507</td>\n",
              "      <td>31.070160</td>\n",
              "      <td>8.295360</td>\n",
              "      <td>23.297141</td>\n",
              "      <td>16.182527</td>\n",
              "      <td>21.154812</td>\n",
              "      <td>2</td>\n",
              "      <td>Alabama</td>\n",
              "    </tr>\n",
              "    <tr>\n",
              "      <th>2</th>\n",
              "      <td>126350</td>\n",
              "      <td>27.307479</td>\n",
              "      <td>12.812030</td>\n",
              "      <td>20.650574</td>\n",
              "      <td>16.641076</td>\n",
              "      <td>22.588841</td>\n",
              "      <td>3</td>\n",
              "      <td>Alabama</td>\n",
              "    </tr>\n",
              "    <tr>\n",
              "      <th>3</th>\n",
              "      <td>95245</td>\n",
              "      <td>25.667489</td>\n",
              "      <td>12.406950</td>\n",
              "      <td>20.831540</td>\n",
              "      <td>21.441545</td>\n",
              "      <td>19.652475</td>\n",
              "      <td>4</td>\n",
              "      <td>Alabama</td>\n",
              "    </tr>\n",
              "    <tr>\n",
              "      <th>4</th>\n",
              "      <td>193261</td>\n",
              "      <td>40.903752</td>\n",
              "      <td>8.033178</td>\n",
              "      <td>20.740863</td>\n",
              "      <td>12.053130</td>\n",
              "      <td>18.269077</td>\n",
              "      <td>5</td>\n",
              "      <td>Alabama</td>\n",
              "    </tr>\n",
              "  </tbody>\n",
              "</table>\n",
              "</div>\n",
              "      <button class=\"colab-df-convert\" onclick=\"convertToInteractive('df-dc554dc6-6d9c-4337-a727-c4913c6cf267')\"\n",
              "              title=\"Convert this dataframe to an interactive table.\"\n",
              "              style=\"display:none;\">\n",
              "        \n",
              "  <svg xmlns=\"http://www.w3.org/2000/svg\" height=\"24px\"viewBox=\"0 0 24 24\"\n",
              "       width=\"24px\">\n",
              "    <path d=\"M0 0h24v24H0V0z\" fill=\"none\"/>\n",
              "    <path d=\"M18.56 5.44l.94 2.06.94-2.06 2.06-.94-2.06-.94-.94-2.06-.94 2.06-2.06.94zm-11 1L8.5 8.5l.94-2.06 2.06-.94-2.06-.94L8.5 2.5l-.94 2.06-2.06.94zm10 10l.94 2.06.94-2.06 2.06-.94-2.06-.94-.94-2.06-.94 2.06-2.06.94z\"/><path d=\"M17.41 7.96l-1.37-1.37c-.4-.4-.92-.59-1.43-.59-.52 0-1.04.2-1.43.59L10.3 9.45l-7.72 7.72c-.78.78-.78 2.05 0 2.83L4 21.41c.39.39.9.59 1.41.59.51 0 1.02-.2 1.41-.59l7.78-7.78 2.81-2.81c.8-.78.8-2.07 0-2.86zM5.41 20L4 18.59l7.72-7.72 1.47 1.35L5.41 20z\"/>\n",
              "  </svg>\n",
              "      </button>\n",
              "      \n",
              "  <style>\n",
              "    .colab-df-container {\n",
              "      display:flex;\n",
              "      flex-wrap:wrap;\n",
              "      gap: 12px;\n",
              "    }\n",
              "\n",
              "    .colab-df-convert {\n",
              "      background-color: #E8F0FE;\n",
              "      border: none;\n",
              "      border-radius: 50%;\n",
              "      cursor: pointer;\n",
              "      display: none;\n",
              "      fill: #1967D2;\n",
              "      height: 32px;\n",
              "      padding: 0 0 0 0;\n",
              "      width: 32px;\n",
              "    }\n",
              "\n",
              "    .colab-df-convert:hover {\n",
              "      background-color: #E2EBFA;\n",
              "      box-shadow: 0px 1px 2px rgba(60, 64, 67, 0.3), 0px 1px 3px 1px rgba(60, 64, 67, 0.15);\n",
              "      fill: #174EA6;\n",
              "    }\n",
              "\n",
              "    [theme=dark] .colab-df-convert {\n",
              "      background-color: #3B4455;\n",
              "      fill: #D2E3FC;\n",
              "    }\n",
              "\n",
              "    [theme=dark] .colab-df-convert:hover {\n",
              "      background-color: #434B5C;\n",
              "      box-shadow: 0px 1px 3px 1px rgba(0, 0, 0, 0.15);\n",
              "      filter: drop-shadow(0px 1px 2px rgba(0, 0, 0, 0.3));\n",
              "      fill: #FFFFFF;\n",
              "    }\n",
              "  </style>\n",
              "\n",
              "      <script>\n",
              "        const buttonEl =\n",
              "          document.querySelector('#df-dc554dc6-6d9c-4337-a727-c4913c6cf267 button.colab-df-convert');\n",
              "        buttonEl.style.display =\n",
              "          google.colab.kernel.accessAllowed ? 'block' : 'none';\n",
              "\n",
              "        async function convertToInteractive(key) {\n",
              "          const element = document.querySelector('#df-dc554dc6-6d9c-4337-a727-c4913c6cf267');\n",
              "          const dataTable =\n",
              "            await google.colab.kernel.invokeFunction('convertToInteractive',\n",
              "                                                     [key], {});\n",
              "          if (!dataTable) return;\n",
              "\n",
              "          const docLinkHtml = 'Like what you see? Visit the ' +\n",
              "            '<a target=\"_blank\" href=https://colab.research.google.com/notebooks/data_table.ipynb>data table notebook</a>'\n",
              "            + ' to learn more about interactive tables.';\n",
              "          element.innerHTML = '';\n",
              "          dataTable['output_type'] = 'display_data';\n",
              "          await google.colab.output.renderOutput(dataTable, element);\n",
              "          const docLink = document.createElement('div');\n",
              "          docLink.innerHTML = docLinkHtml;\n",
              "          element.appendChild(docLink);\n",
              "        }\n",
              "      </script>\n",
              "    </div>\n",
              "  </div>\n",
              "  "
            ]
          },
          "metadata": {},
          "execution_count": 3
        }
      ]
    },
    {
      "cell_type": "markdown",
      "source": [
        "# Party Affiliation Data"
      ],
      "metadata": {
        "id": "uSxiZPEhkqga"
      }
    },
    {
      "cell_type": "markdown",
      "source": [
        "Next, we will read in a dataset containing each congressional district's party affiliation for the 116th Congress. This data was scraped from the U.S. House of Representatives website and turned into a csv: http://goodcsv.com/politics/us-house-of-representatives-2020/"
      ],
      "metadata": {
        "id": "YvkWpsL2KRrb"
      }
    },
    {
      "cell_type": "code",
      "source": [
        "# read from the congressional data and put into a pandas dataframe\n",
        "party_df = pd.read_csv(\"http://goodcsv.com/wp-content/uploads/2020/08/us-house-of-representatives-2020.csv\", encoding = \"ISO-8859-1\")\n",
        "\n",
        "# extract the district number from the data (it was in the format of 5th and we want that to just be 5) using a regular expression.\n",
        "party_df['District Number'] = party_df['District/Position'].str.extract('(\\d+)')\n",
        "party_df['District Number'] = party_df['District Number'].fillna(0)\n",
        "party_df['District Number'] = pd.to_numeric(party_df['District Number'])\n",
        "party_df['State'] = party_df['State/Territory']\n",
        "party_df['State'] = party_df['State'].str.strip()\n",
        "party_df['Party'] = party_df['Party'].str.strip() # remove extraneous whitespace\n",
        "\n",
        "# Let's just keep the columns we need\n",
        "party_df = party_df[['Party', 'State', \"District Number\"]]\n",
        "\n",
        "party_df.head(5)"
      ],
      "metadata": {
        "colab": {
          "base_uri": "https://localhost:8080/",
          "height": 206
        },
        "id": "o5igl23Gkef3",
        "outputId": "38d45212-ecb6-493c-b7c0-90f692690a32"
      },
      "execution_count": null,
      "outputs": [
        {
          "output_type": "execute_result",
          "data": {
            "text/plain": [
              "  Party           State  District Number\n",
              "0     R       Louisiana                5\n",
              "1     D  North Carolina               12\n",
              "2     R         Alabama                4\n",
              "3     D      California               31\n",
              "4     R         Georgia               12"
            ],
            "text/html": [
              "\n",
              "  <div id=\"df-42471984-d725-406d-8694-ff983a064869\">\n",
              "    <div class=\"colab-df-container\">\n",
              "      <div>\n",
              "<style scoped>\n",
              "    .dataframe tbody tr th:only-of-type {\n",
              "        vertical-align: middle;\n",
              "    }\n",
              "\n",
              "    .dataframe tbody tr th {\n",
              "        vertical-align: top;\n",
              "    }\n",
              "\n",
              "    .dataframe thead th {\n",
              "        text-align: right;\n",
              "    }\n",
              "</style>\n",
              "<table border=\"1\" class=\"dataframe\">\n",
              "  <thead>\n",
              "    <tr style=\"text-align: right;\">\n",
              "      <th></th>\n",
              "      <th>Party</th>\n",
              "      <th>State</th>\n",
              "      <th>District Number</th>\n",
              "    </tr>\n",
              "  </thead>\n",
              "  <tbody>\n",
              "    <tr>\n",
              "      <th>0</th>\n",
              "      <td>R</td>\n",
              "      <td>Louisiana</td>\n",
              "      <td>5</td>\n",
              "    </tr>\n",
              "    <tr>\n",
              "      <th>1</th>\n",
              "      <td>D</td>\n",
              "      <td>North Carolina</td>\n",
              "      <td>12</td>\n",
              "    </tr>\n",
              "    <tr>\n",
              "      <th>2</th>\n",
              "      <td>R</td>\n",
              "      <td>Alabama</td>\n",
              "      <td>4</td>\n",
              "    </tr>\n",
              "    <tr>\n",
              "      <th>3</th>\n",
              "      <td>D</td>\n",
              "      <td>California</td>\n",
              "      <td>31</td>\n",
              "    </tr>\n",
              "    <tr>\n",
              "      <th>4</th>\n",
              "      <td>R</td>\n",
              "      <td>Georgia</td>\n",
              "      <td>12</td>\n",
              "    </tr>\n",
              "  </tbody>\n",
              "</table>\n",
              "</div>\n",
              "      <button class=\"colab-df-convert\" onclick=\"convertToInteractive('df-42471984-d725-406d-8694-ff983a064869')\"\n",
              "              title=\"Convert this dataframe to an interactive table.\"\n",
              "              style=\"display:none;\">\n",
              "        \n",
              "  <svg xmlns=\"http://www.w3.org/2000/svg\" height=\"24px\"viewBox=\"0 0 24 24\"\n",
              "       width=\"24px\">\n",
              "    <path d=\"M0 0h24v24H0V0z\" fill=\"none\"/>\n",
              "    <path d=\"M18.56 5.44l.94 2.06.94-2.06 2.06-.94-2.06-.94-.94-2.06-.94 2.06-2.06.94zm-11 1L8.5 8.5l.94-2.06 2.06-.94-2.06-.94L8.5 2.5l-.94 2.06-2.06.94zm10 10l.94 2.06.94-2.06 2.06-.94-2.06-.94-.94-2.06-.94 2.06-2.06.94z\"/><path d=\"M17.41 7.96l-1.37-1.37c-.4-.4-.92-.59-1.43-.59-.52 0-1.04.2-1.43.59L10.3 9.45l-7.72 7.72c-.78.78-.78 2.05 0 2.83L4 21.41c.39.39.9.59 1.41.59.51 0 1.02-.2 1.41-.59l7.78-7.78 2.81-2.81c.8-.78.8-2.07 0-2.86zM5.41 20L4 18.59l7.72-7.72 1.47 1.35L5.41 20z\"/>\n",
              "  </svg>\n",
              "      </button>\n",
              "      \n",
              "  <style>\n",
              "    .colab-df-container {\n",
              "      display:flex;\n",
              "      flex-wrap:wrap;\n",
              "      gap: 12px;\n",
              "    }\n",
              "\n",
              "    .colab-df-convert {\n",
              "      background-color: #E8F0FE;\n",
              "      border: none;\n",
              "      border-radius: 50%;\n",
              "      cursor: pointer;\n",
              "      display: none;\n",
              "      fill: #1967D2;\n",
              "      height: 32px;\n",
              "      padding: 0 0 0 0;\n",
              "      width: 32px;\n",
              "    }\n",
              "\n",
              "    .colab-df-convert:hover {\n",
              "      background-color: #E2EBFA;\n",
              "      box-shadow: 0px 1px 2px rgba(60, 64, 67, 0.3), 0px 1px 3px 1px rgba(60, 64, 67, 0.15);\n",
              "      fill: #174EA6;\n",
              "    }\n",
              "\n",
              "    [theme=dark] .colab-df-convert {\n",
              "      background-color: #3B4455;\n",
              "      fill: #D2E3FC;\n",
              "    }\n",
              "\n",
              "    [theme=dark] .colab-df-convert:hover {\n",
              "      background-color: #434B5C;\n",
              "      box-shadow: 0px 1px 3px 1px rgba(0, 0, 0, 0.15);\n",
              "      filter: drop-shadow(0px 1px 2px rgba(0, 0, 0, 0.3));\n",
              "      fill: #FFFFFF;\n",
              "    }\n",
              "  </style>\n",
              "\n",
              "      <script>\n",
              "        const buttonEl =\n",
              "          document.querySelector('#df-42471984-d725-406d-8694-ff983a064869 button.colab-df-convert');\n",
              "        buttonEl.style.display =\n",
              "          google.colab.kernel.accessAllowed ? 'block' : 'none';\n",
              "\n",
              "        async function convertToInteractive(key) {\n",
              "          const element = document.querySelector('#df-42471984-d725-406d-8694-ff983a064869');\n",
              "          const dataTable =\n",
              "            await google.colab.kernel.invokeFunction('convertToInteractive',\n",
              "                                                     [key], {});\n",
              "          if (!dataTable) return;\n",
              "\n",
              "          const docLinkHtml = 'Like what you see? Visit the ' +\n",
              "            '<a target=\"_blank\" href=https://colab.research.google.com/notebooks/data_table.ipynb>data table notebook</a>'\n",
              "            + ' to learn more about interactive tables.';\n",
              "          element.innerHTML = '';\n",
              "          dataTable['output_type'] = 'display_data';\n",
              "          await google.colab.output.renderOutput(dataTable, element);\n",
              "          const docLink = document.createElement('div');\n",
              "          docLink.innerHTML = docLinkHtml;\n",
              "          element.appendChild(docLink);\n",
              "        }\n",
              "      </script>\n",
              "    </div>\n",
              "  </div>\n",
              "  "
            ]
          },
          "metadata": {},
          "execution_count": 4
        }
      ]
    },
    {
      "cell_type": "markdown",
      "source": [
        "Merge the ACS and party dataframes by state and district number."
      ],
      "metadata": {
        "id": "bl7vyR2ymBV3"
      }
    },
    {
      "cell_type": "code",
      "source": [
        "merged_df = pd.merge(party_df, acs_df, on= ['State', 'District Number'])\n",
        "merged_df.head()"
      ],
      "metadata": {
        "colab": {
          "base_uri": "https://localhost:8080/",
          "height": 206
        },
        "id": "_MNuWKBglQim",
        "outputId": "49fb7456-3ba0-43d4-aa92-ee727095876f"
      },
      "execution_count": null,
      "outputs": [
        {
          "output_type": "execute_result",
          "data": {
            "text/plain": [
              "  Party           State  District Number   Total  % Science and Engineering  \\\n",
              "0     R       Louisiana                5   92291                  25.232146   \n",
              "1     D  North Carolina               12  280999                  32.912929   \n",
              "2     R         Alabama                4   95245                  25.667489   \n",
              "3     D      California               31  127251                  35.789896   \n",
              "4     R         Georgia               12  121969                  31.943363   \n",
              "\n",
              "   % Science and Engineering Related  % Business  % Education  \\\n",
              "0                          14.402271   17.113261    20.220823   \n",
              "1                           8.680814   26.359169     7.260524   \n",
              "2                          12.406950   20.831540    21.441545   \n",
              "3                          11.392445   20.504358     8.426653   \n",
              "4                          13.681345   16.647673    15.829432   \n",
              "\n",
              "   % Arts, Humanities, and Other  \n",
              "0                      23.031498  \n",
              "1                      24.786565  \n",
              "2                      19.652475  \n",
              "3                      23.886649  \n",
              "4                      21.898187  "
            ],
            "text/html": [
              "\n",
              "  <div id=\"df-ac7e99f4-4f96-4cfb-8960-7dc52b52378b\">\n",
              "    <div class=\"colab-df-container\">\n",
              "      <div>\n",
              "<style scoped>\n",
              "    .dataframe tbody tr th:only-of-type {\n",
              "        vertical-align: middle;\n",
              "    }\n",
              "\n",
              "    .dataframe tbody tr th {\n",
              "        vertical-align: top;\n",
              "    }\n",
              "\n",
              "    .dataframe thead th {\n",
              "        text-align: right;\n",
              "    }\n",
              "</style>\n",
              "<table border=\"1\" class=\"dataframe\">\n",
              "  <thead>\n",
              "    <tr style=\"text-align: right;\">\n",
              "      <th></th>\n",
              "      <th>Party</th>\n",
              "      <th>State</th>\n",
              "      <th>District Number</th>\n",
              "      <th>Total</th>\n",
              "      <th>% Science and Engineering</th>\n",
              "      <th>% Science and Engineering Related</th>\n",
              "      <th>% Business</th>\n",
              "      <th>% Education</th>\n",
              "      <th>% Arts, Humanities, and Other</th>\n",
              "    </tr>\n",
              "  </thead>\n",
              "  <tbody>\n",
              "    <tr>\n",
              "      <th>0</th>\n",
              "      <td>R</td>\n",
              "      <td>Louisiana</td>\n",
              "      <td>5</td>\n",
              "      <td>92291</td>\n",
              "      <td>25.232146</td>\n",
              "      <td>14.402271</td>\n",
              "      <td>17.113261</td>\n",
              "      <td>20.220823</td>\n",
              "      <td>23.031498</td>\n",
              "    </tr>\n",
              "    <tr>\n",
              "      <th>1</th>\n",
              "      <td>D</td>\n",
              "      <td>North Carolina</td>\n",
              "      <td>12</td>\n",
              "      <td>280999</td>\n",
              "      <td>32.912929</td>\n",
              "      <td>8.680814</td>\n",
              "      <td>26.359169</td>\n",
              "      <td>7.260524</td>\n",
              "      <td>24.786565</td>\n",
              "    </tr>\n",
              "    <tr>\n",
              "      <th>2</th>\n",
              "      <td>R</td>\n",
              "      <td>Alabama</td>\n",
              "      <td>4</td>\n",
              "      <td>95245</td>\n",
              "      <td>25.667489</td>\n",
              "      <td>12.406950</td>\n",
              "      <td>20.831540</td>\n",
              "      <td>21.441545</td>\n",
              "      <td>19.652475</td>\n",
              "    </tr>\n",
              "    <tr>\n",
              "      <th>3</th>\n",
              "      <td>D</td>\n",
              "      <td>California</td>\n",
              "      <td>31</td>\n",
              "      <td>127251</td>\n",
              "      <td>35.789896</td>\n",
              "      <td>11.392445</td>\n",
              "      <td>20.504358</td>\n",
              "      <td>8.426653</td>\n",
              "      <td>23.886649</td>\n",
              "    </tr>\n",
              "    <tr>\n",
              "      <th>4</th>\n",
              "      <td>R</td>\n",
              "      <td>Georgia</td>\n",
              "      <td>12</td>\n",
              "      <td>121969</td>\n",
              "      <td>31.943363</td>\n",
              "      <td>13.681345</td>\n",
              "      <td>16.647673</td>\n",
              "      <td>15.829432</td>\n",
              "      <td>21.898187</td>\n",
              "    </tr>\n",
              "  </tbody>\n",
              "</table>\n",
              "</div>\n",
              "      <button class=\"colab-df-convert\" onclick=\"convertToInteractive('df-ac7e99f4-4f96-4cfb-8960-7dc52b52378b')\"\n",
              "              title=\"Convert this dataframe to an interactive table.\"\n",
              "              style=\"display:none;\">\n",
              "        \n",
              "  <svg xmlns=\"http://www.w3.org/2000/svg\" height=\"24px\"viewBox=\"0 0 24 24\"\n",
              "       width=\"24px\">\n",
              "    <path d=\"M0 0h24v24H0V0z\" fill=\"none\"/>\n",
              "    <path d=\"M18.56 5.44l.94 2.06.94-2.06 2.06-.94-2.06-.94-.94-2.06-.94 2.06-2.06.94zm-11 1L8.5 8.5l.94-2.06 2.06-.94-2.06-.94L8.5 2.5l-.94 2.06-2.06.94zm10 10l.94 2.06.94-2.06 2.06-.94-2.06-.94-.94-2.06-.94 2.06-2.06.94z\"/><path d=\"M17.41 7.96l-1.37-1.37c-.4-.4-.92-.59-1.43-.59-.52 0-1.04.2-1.43.59L10.3 9.45l-7.72 7.72c-.78.78-.78 2.05 0 2.83L4 21.41c.39.39.9.59 1.41.59.51 0 1.02-.2 1.41-.59l7.78-7.78 2.81-2.81c.8-.78.8-2.07 0-2.86zM5.41 20L4 18.59l7.72-7.72 1.47 1.35L5.41 20z\"/>\n",
              "  </svg>\n",
              "      </button>\n",
              "      \n",
              "  <style>\n",
              "    .colab-df-container {\n",
              "      display:flex;\n",
              "      flex-wrap:wrap;\n",
              "      gap: 12px;\n",
              "    }\n",
              "\n",
              "    .colab-df-convert {\n",
              "      background-color: #E8F0FE;\n",
              "      border: none;\n",
              "      border-radius: 50%;\n",
              "      cursor: pointer;\n",
              "      display: none;\n",
              "      fill: #1967D2;\n",
              "      height: 32px;\n",
              "      padding: 0 0 0 0;\n",
              "      width: 32px;\n",
              "    }\n",
              "\n",
              "    .colab-df-convert:hover {\n",
              "      background-color: #E2EBFA;\n",
              "      box-shadow: 0px 1px 2px rgba(60, 64, 67, 0.3), 0px 1px 3px 1px rgba(60, 64, 67, 0.15);\n",
              "      fill: #174EA6;\n",
              "    }\n",
              "\n",
              "    [theme=dark] .colab-df-convert {\n",
              "      background-color: #3B4455;\n",
              "      fill: #D2E3FC;\n",
              "    }\n",
              "\n",
              "    [theme=dark] .colab-df-convert:hover {\n",
              "      background-color: #434B5C;\n",
              "      box-shadow: 0px 1px 3px 1px rgba(0, 0, 0, 0.15);\n",
              "      filter: drop-shadow(0px 1px 2px rgba(0, 0, 0, 0.3));\n",
              "      fill: #FFFFFF;\n",
              "    }\n",
              "  </style>\n",
              "\n",
              "      <script>\n",
              "        const buttonEl =\n",
              "          document.querySelector('#df-ac7e99f4-4f96-4cfb-8960-7dc52b52378b button.colab-df-convert');\n",
              "        buttonEl.style.display =\n",
              "          google.colab.kernel.accessAllowed ? 'block' : 'none';\n",
              "\n",
              "        async function convertToInteractive(key) {\n",
              "          const element = document.querySelector('#df-ac7e99f4-4f96-4cfb-8960-7dc52b52378b');\n",
              "          const dataTable =\n",
              "            await google.colab.kernel.invokeFunction('convertToInteractive',\n",
              "                                                     [key], {});\n",
              "          if (!dataTable) return;\n",
              "\n",
              "          const docLinkHtml = 'Like what you see? Visit the ' +\n",
              "            '<a target=\"_blank\" href=https://colab.research.google.com/notebooks/data_table.ipynb>data table notebook</a>'\n",
              "            + ' to learn more about interactive tables.';\n",
              "          element.innerHTML = '';\n",
              "          dataTable['output_type'] = 'display_data';\n",
              "          await google.colab.output.renderOutput(dataTable, element);\n",
              "          const docLink = document.createElement('div');\n",
              "          docLink.innerHTML = docLinkHtml;\n",
              "          element.appendChild(docLink);\n",
              "        }\n",
              "      </script>\n",
              "    </div>\n",
              "  </div>\n",
              "  "
            ]
          },
          "metadata": {},
          "execution_count": 5
        }
      ]
    },
    {
      "cell_type": "code",
      "source": [
        "#checking the total number of congressional districts\n",
        "merged_df['Party'].value_counts()"
      ],
      "metadata": {
        "colab": {
          "base_uri": "https://localhost:8080/"
        },
        "id": "b3z903khnMwy",
        "outputId": "29ae6e5e-f9f0-4a21-b22a-e235b79f5f67"
      },
      "execution_count": null,
      "outputs": [
        {
          "output_type": "execute_result",
          "data": {
            "text/plain": [
              "D    233\n",
              "R    201\n",
              "L      1\n",
              "Name: Party, dtype: int64"
            ]
          },
          "metadata": {},
          "execution_count": 6
        }
      ]
    },
    {
      "cell_type": "markdown",
      "source": [
        "Since there's only one libertarian district, and our plot will be grouped by party, we will remove the libertarian district from the dataset. We will also melt the dataframe to reformat it for easier use in creating the side-by-side boxplot."
      ],
      "metadata": {
        "id": "mspuoP6lnSwc"
      }
    },
    {
      "cell_type": "code",
      "source": [
        "merged_df = merged_df[merged_df['Party'] != 'L']"
      ],
      "metadata": {
        "id": "KBTZbgfOngtW"
      },
      "execution_count": null,
      "outputs": []
    },
    {
      "cell_type": "code",
      "source": [
        "#converting merged dataframe into \"pivot longer\" equivalent to be able to create better visualizations\n",
        "df_melt = merged_df.melt(id_vars = 'Party',\n",
        "                         value_vars = ['% Science and Engineering', \n",
        "                                       '% Science and Engineering Related',\n",
        "                                       '% Business', '% Education', \n",
        "                                       '% Arts, Humanities, and Other'],\n",
        "        var_name = 'Degree Proportion')\n",
        "\n",
        "df_melt.head()"
      ],
      "metadata": {
        "colab": {
          "base_uri": "https://localhost:8080/",
          "height": 206
        },
        "id": "1vauYrrgoQlq",
        "outputId": "599f2414-7bee-412e-b889-f9e9c52d1580"
      },
      "execution_count": null,
      "outputs": [
        {
          "output_type": "execute_result",
          "data": {
            "text/plain": [
              "  Party          Degree Proportion      value\n",
              "0     R  % Science and Engineering  25.232146\n",
              "1     D  % Science and Engineering  32.912929\n",
              "2     R  % Science and Engineering  25.667489\n",
              "3     D  % Science and Engineering  35.789896\n",
              "4     R  % Science and Engineering  31.943363"
            ],
            "text/html": [
              "\n",
              "  <div id=\"df-567cd698-4d47-40ec-9f47-344d9d812f94\">\n",
              "    <div class=\"colab-df-container\">\n",
              "      <div>\n",
              "<style scoped>\n",
              "    .dataframe tbody tr th:only-of-type {\n",
              "        vertical-align: middle;\n",
              "    }\n",
              "\n",
              "    .dataframe tbody tr th {\n",
              "        vertical-align: top;\n",
              "    }\n",
              "\n",
              "    .dataframe thead th {\n",
              "        text-align: right;\n",
              "    }\n",
              "</style>\n",
              "<table border=\"1\" class=\"dataframe\">\n",
              "  <thead>\n",
              "    <tr style=\"text-align: right;\">\n",
              "      <th></th>\n",
              "      <th>Party</th>\n",
              "      <th>Degree Proportion</th>\n",
              "      <th>value</th>\n",
              "    </tr>\n",
              "  </thead>\n",
              "  <tbody>\n",
              "    <tr>\n",
              "      <th>0</th>\n",
              "      <td>R</td>\n",
              "      <td>% Science and Engineering</td>\n",
              "      <td>25.232146</td>\n",
              "    </tr>\n",
              "    <tr>\n",
              "      <th>1</th>\n",
              "      <td>D</td>\n",
              "      <td>% Science and Engineering</td>\n",
              "      <td>32.912929</td>\n",
              "    </tr>\n",
              "    <tr>\n",
              "      <th>2</th>\n",
              "      <td>R</td>\n",
              "      <td>% Science and Engineering</td>\n",
              "      <td>25.667489</td>\n",
              "    </tr>\n",
              "    <tr>\n",
              "      <th>3</th>\n",
              "      <td>D</td>\n",
              "      <td>% Science and Engineering</td>\n",
              "      <td>35.789896</td>\n",
              "    </tr>\n",
              "    <tr>\n",
              "      <th>4</th>\n",
              "      <td>R</td>\n",
              "      <td>% Science and Engineering</td>\n",
              "      <td>31.943363</td>\n",
              "    </tr>\n",
              "  </tbody>\n",
              "</table>\n",
              "</div>\n",
              "      <button class=\"colab-df-convert\" onclick=\"convertToInteractive('df-567cd698-4d47-40ec-9f47-344d9d812f94')\"\n",
              "              title=\"Convert this dataframe to an interactive table.\"\n",
              "              style=\"display:none;\">\n",
              "        \n",
              "  <svg xmlns=\"http://www.w3.org/2000/svg\" height=\"24px\"viewBox=\"0 0 24 24\"\n",
              "       width=\"24px\">\n",
              "    <path d=\"M0 0h24v24H0V0z\" fill=\"none\"/>\n",
              "    <path d=\"M18.56 5.44l.94 2.06.94-2.06 2.06-.94-2.06-.94-.94-2.06-.94 2.06-2.06.94zm-11 1L8.5 8.5l.94-2.06 2.06-.94-2.06-.94L8.5 2.5l-.94 2.06-2.06.94zm10 10l.94 2.06.94-2.06 2.06-.94-2.06-.94-.94-2.06-.94 2.06-2.06.94z\"/><path d=\"M17.41 7.96l-1.37-1.37c-.4-.4-.92-.59-1.43-.59-.52 0-1.04.2-1.43.59L10.3 9.45l-7.72 7.72c-.78.78-.78 2.05 0 2.83L4 21.41c.39.39.9.59 1.41.59.51 0 1.02-.2 1.41-.59l7.78-7.78 2.81-2.81c.8-.78.8-2.07 0-2.86zM5.41 20L4 18.59l7.72-7.72 1.47 1.35L5.41 20z\"/>\n",
              "  </svg>\n",
              "      </button>\n",
              "      \n",
              "  <style>\n",
              "    .colab-df-container {\n",
              "      display:flex;\n",
              "      flex-wrap:wrap;\n",
              "      gap: 12px;\n",
              "    }\n",
              "\n",
              "    .colab-df-convert {\n",
              "      background-color: #E8F0FE;\n",
              "      border: none;\n",
              "      border-radius: 50%;\n",
              "      cursor: pointer;\n",
              "      display: none;\n",
              "      fill: #1967D2;\n",
              "      height: 32px;\n",
              "      padding: 0 0 0 0;\n",
              "      width: 32px;\n",
              "    }\n",
              "\n",
              "    .colab-df-convert:hover {\n",
              "      background-color: #E2EBFA;\n",
              "      box-shadow: 0px 1px 2px rgba(60, 64, 67, 0.3), 0px 1px 3px 1px rgba(60, 64, 67, 0.15);\n",
              "      fill: #174EA6;\n",
              "    }\n",
              "\n",
              "    [theme=dark] .colab-df-convert {\n",
              "      background-color: #3B4455;\n",
              "      fill: #D2E3FC;\n",
              "    }\n",
              "\n",
              "    [theme=dark] .colab-df-convert:hover {\n",
              "      background-color: #434B5C;\n",
              "      box-shadow: 0px 1px 3px 1px rgba(0, 0, 0, 0.15);\n",
              "      filter: drop-shadow(0px 1px 2px rgba(0, 0, 0, 0.3));\n",
              "      fill: #FFFFFF;\n",
              "    }\n",
              "  </style>\n",
              "\n",
              "      <script>\n",
              "        const buttonEl =\n",
              "          document.querySelector('#df-567cd698-4d47-40ec-9f47-344d9d812f94 button.colab-df-convert');\n",
              "        buttonEl.style.display =\n",
              "          google.colab.kernel.accessAllowed ? 'block' : 'none';\n",
              "\n",
              "        async function convertToInteractive(key) {\n",
              "          const element = document.querySelector('#df-567cd698-4d47-40ec-9f47-344d9d812f94');\n",
              "          const dataTable =\n",
              "            await google.colab.kernel.invokeFunction('convertToInteractive',\n",
              "                                                     [key], {});\n",
              "          if (!dataTable) return;\n",
              "\n",
              "          const docLinkHtml = 'Like what you see? Visit the ' +\n",
              "            '<a target=\"_blank\" href=https://colab.research.google.com/notebooks/data_table.ipynb>data table notebook</a>'\n",
              "            + ' to learn more about interactive tables.';\n",
              "          element.innerHTML = '';\n",
              "          dataTable['output_type'] = 'display_data';\n",
              "          await google.colab.output.renderOutput(dataTable, element);\n",
              "          const docLink = document.createElement('div');\n",
              "          docLink.innerHTML = docLinkHtml;\n",
              "          element.appendChild(docLink);\n",
              "        }\n",
              "      </script>\n",
              "    </div>\n",
              "  </div>\n",
              "  "
            ]
          },
          "metadata": {},
          "execution_count": 8
        }
      ]
    },
    {
      "cell_type": "markdown",
      "source": [
        "# Visualizations"
      ],
      "metadata": {
        "id": "lVt_2hHSd-p0"
      }
    },
    {
      "cell_type": "markdown",
      "source": [
        "Now that we have the data in melted format, we can use Seaborn to create our boxplot representing the distribution of bachelor's degrees in each field among Republican and Democrat districts."
      ],
      "metadata": {
        "id": "ceoBkQEuGRw0"
      }
    },
    {
      "cell_type": "code",
      "source": [
        "# create color palette\n",
        "palette = {'R': 'indianred', \n",
        "           'D': 'dodgerblue'}\n",
        "\n",
        "# create plot\n",
        "plt.figure(figsize=(11, 8))\n",
        "\n",
        "bplot = sns.boxplot(data= df_melt, hue = 'Party', x = 'Degree Proportion', y = 'value', palette = palette)\n",
        "\n",
        "plt.xticks(rotation = 45)\n",
        "\n",
        "bplot.set(xlabel = 'Bachelors Degree Field',\n",
        "          ylabel = 'Percentage of 25+, University-Educated Population',\n",
        "          title = 'Boxplot of Percentage of Bachelors Degrees in Various Fields\\n Among Republican and Democrat Districts')"
      ],
      "metadata": {
        "colab": {
          "base_uri": "https://localhost:8080/",
          "height": 702
        },
        "id": "Jo18iatXowgi",
        "outputId": "6e3c2095-6346-4865-d0f8-c8f6e2632857"
      },
      "execution_count": null,
      "outputs": [
        {
          "output_type": "execute_result",
          "data": {
            "text/plain": [
              "[Text(0, 0.5, 'Percentage of 25+, University-Educated Population'),\n",
              " Text(0.5, 0, 'Bachelors Degree Field'),\n",
              " Text(0.5, 1.0, 'Boxplot of Percentage of Bachelors Degrees in Various Fields\\n Among Republican and Democrat Districts')]"
            ]
          },
          "metadata": {},
          "execution_count": 9
        },
        {
          "output_type": "display_data",
          "data": {
            "text/plain": [
              "<Figure size 792x576 with 1 Axes>"
            ],
            "image/png": "[encoded data removed]"
          },
          "metadata": {
            "needs_background": "light"
          }
        }
      ]
    },
    {
      "cell_type": "markdown",
      "source": [
        "This box plot demonstrates how Democrat districts have higher proportions of bachelor's degrees in Science/Engineering and Arts/Humanities/Other. Republican districts have higher proportions of bachelor's degrees in Science/Engineering Related fields and in Education. The proportion of bachelor's degrees in Business seems to be very similar among Republican and Democrat districts."
      ],
      "metadata": {
        "id": "obIg_ezawU8K"
      }
    },
    {
      "cell_type": "markdown",
      "source": [
        "A swarm plot offers another view of the data. Here, we will see individual points for each observation. "
      ],
      "metadata": {
        "id": "smGIHR72vjeL"
      }
    },
    {
      "cell_type": "code",
      "source": [
        "#Swarm plot- shows a good visualization that for Sci/Engineering and Arts/Humanities the Democrats (blue)\n",
        "#have higher proportions of total Pop over 25 earning that Degree Type vs Republicans\n",
        "palette = {'R': 'indianred', \n",
        "           'D': 'dodgerblue'}\n",
        "\n",
        "plt.figure(figsize=(11, 8))\n",
        "\n",
        "bplot = sns.swarmplot(data= df_melt, hue = 'Party', size = 2.8, \n",
        "                      x = 'Degree Proportion', y = 'value', palette = palette)\n",
        "\n",
        "plt.xticks(rotation = 45)\n",
        "\n",
        "bplot.set(xlabel = 'Bachelors Degree Field',\n",
        "          ylabel = 'Percentage of 25+, University-Educated Population',\n",
        "          title = 'Swarm Plot of Percentage of Bachelors Degrees in Various Fields\\n Among Republican and Democrat Districts')"
      ],
      "metadata": {
        "colab": {
          "base_uri": "https://localhost:8080/",
          "height": 702
        },
        "id": "3FjizfkKKygU",
        "outputId": "7cba736b-384d-4fbc-f5d0-e75cad4fc671"
      },
      "execution_count": null,
      "outputs": [
        {
          "output_type": "execute_result",
          "data": {
            "text/plain": [
              "[Text(0, 0.5, 'Percentage of 25+, University-Educated Population'),\n",
              " Text(0.5, 0, 'Bachelors Degree Field'),\n",
              " Text(0.5, 1.0, 'Swarm Plot of Percentage of Bachelors Degrees in Various Fields\\n Among Republican and Democrat Districts')]"
            ]
          },
          "metadata": {},
          "execution_count": 10
        },
        {
          "output_type": "display_data",
          "data": {
            "text/plain": [
              "<Figure size 792x576 with 1 Axes>"
            ],
            "image/png": "[encoded data removed]"
          },
          "metadata": {
            "needs_background": "light"
          }
        }
      ]
    },
    {
      "cell_type": "markdown",
      "source": [
        "# Interpretation of Graphs"
      ],
      "metadata": {
        "id": "b9GxKOu4eC0z"
      }
    },
    {
      "cell_type": "markdown",
      "source": [
        "It appears that our hypothesis that Democratic districts would have the highest proportions  of bachelor's degrees in Science/Engineering, and Arts/Humanities was partially confirmed. As shown by the boxplot and swarm plot above, the Science/Engineering as well as the Arts/Humanities Degree Categories had higher proportions of the total 25+ population in Democratic districts (larger concentrations of blue data points in the higher proportion values). Contrary to our hypothesis, we see that Republican districts had a greater proportion of bachelor's degrees in Education than the Democrat districts. We also see a larger proportion of bachelor's degrees in Education among the Republican districts, which we did not expect.\n",
        "\n",
        "Meanwhile, the proportion of bachelor's degrees in Business seems to be about equal among Democrat and Republican districts, meaning that we cannot conclude our hypothesis that business would be dominated by Republicans was accurate.\n",
        "\n",
        "We can provide a table of the mean and median values for each degree type to further demonstrate the differences among Republican and Democrat districts.\n",
        "\n"
      ],
      "metadata": {
        "id": "XG5FIIk5K6Zl"
      }
    },
    {
      "cell_type": "markdown",
      "source": [
        "# Table of Mean and Median Proportion of Bachelor's Degrees in Each Field By Party"
      ],
      "metadata": {
        "id": "HztJAv3TExmM"
      }
    },
    {
      "cell_type": "markdown",
      "source": [
        "The table below provides the exact mean and median proportion of bachelor's degrees in each field among all Democrat and Republican districts."
      ],
      "metadata": {
        "id": "RkO6gNuhFKPF"
      }
    },
    {
      "cell_type": "code",
      "source": [
        "means_meds =merged_df.groupby('Party')[['% Science and Engineering', \n",
        "                                       '% Science and Engineering Related',\n",
        "                                       '% Business', '% Education', \n",
        "                                       '% Arts, Humanities, and Other']].aggregate(['mean', 'median'])"
      ],
      "metadata": {
        "id": "kXhQ1Z3WwcWa"
      },
      "execution_count": null,
      "outputs": []
    },
    {
      "cell_type": "code",
      "source": [
        "means_meds"
      ],
      "metadata": {
        "colab": {
          "base_uri": "https://localhost:8080/",
          "height": 174
        },
        "id": "MxJxIFLXQZ-q",
        "outputId": "30f18749-5e90-4f20-acdf-e5b8c83a6c7c"
      },
      "execution_count": null,
      "outputs": [
        {
          "output_type": "execute_result",
          "data": {
            "text/plain": [
              "      % Science and Engineering            % Science and Engineering Related  \\\n",
              "                           mean     median                              mean   \n",
              "Party                                                                          \n",
              "D                     36.948589  36.080887                          9.293065   \n",
              "R                     31.717346  31.316630                         11.177018   \n",
              "\n",
              "                 % Business            % Education             \\\n",
              "          median       mean     median        mean     median   \n",
              "Party                                                           \n",
              "D       9.254653  19.688641  19.545711    9.721268   9.544656   \n",
              "R      11.176513  20.513236  20.483732   15.168800  15.114102   \n",
              "\n",
              "      % Arts, Humanities, and Other             \n",
              "                               mean     median  \n",
              "Party                                           \n",
              "D                         24.348437  23.677883  \n",
              "R                         21.423600  21.341020  "
            ],
            "text/html": [
              "\n",
              "  <div id=\"df-def3f9ab-0501-44f3-b1ce-f3eda203653d\">\n",
              "    <div class=\"colab-df-container\">\n",
              "      <div>\n",
              "<style scoped>\n",
              "    .dataframe tbody tr th:only-of-type {\n",
              "        vertical-align: middle;\n",
              "    }\n",
              "\n",
              "    .dataframe tbody tr th {\n",
              "        vertical-align: top;\n",
              "    }\n",
              "\n",
              "    .dataframe thead tr th {\n",
              "        text-align: left;\n",
              "    }\n",
              "\n",
              "    .dataframe thead tr:last-of-type th {\n",
              "        text-align: right;\n",
              "    }\n",
              "</style>\n",
              "<table border=\"1\" class=\"dataframe\">\n",
              "  <thead>\n",
              "    <tr>\n",
              "      <th></th>\n",
              "      <th colspan=\"2\" halign=\"left\">% Science and Engineering</th>\n",
              "      <th colspan=\"2\" halign=\"left\">% Science and Engineering Related</th>\n",
              "      <th colspan=\"2\" halign=\"left\">% Business</th>\n",
              "      <th colspan=\"2\" halign=\"left\">% Education</th>\n",
              "      <th colspan=\"2\" halign=\"left\">% Arts, Humanities, and Other</th>\n",
              "    </tr>\n",
              "    <tr>\n",
              "      <th></th>\n",
              "      <th>mean</th>\n",
              "      <th>median</th>\n",
              "      <th>mean</th>\n",
              "      <th>median</th>\n",
              "      <th>mean</th>\n",
              "      <th>median</th>\n",
              "      <th>mean</th>\n",
              "      <th>median</th>\n",
              "      <th>mean</th>\n",
              "      <th>median</th>\n",
              "    </tr>\n",
              "    <tr>\n",
              "      <th>Party</th>\n",
              "      <th></th>\n",
              "      <th></th>\n",
              "      <th></th>\n",
              "      <th></th>\n",
              "      <th></th>\n",
              "      <th></th>\n",
              "      <th></th>\n",
              "      <th></th>\n",
              "      <th></th>\n",
              "      <th></th>\n",
              "    </tr>\n",
              "  </thead>\n",
              "  <tbody>\n",
              "    <tr>\n",
              "      <th>D</th>\n",
              "      <td>36.948589</td>\n",
              "      <td>36.080887</td>\n",
              "      <td>9.293065</td>\n",
              "      <td>9.254653</td>\n",
              "      <td>19.688641</td>\n",
              "      <td>19.545711</td>\n",
              "      <td>9.721268</td>\n",
              "      <td>9.544656</td>\n",
              "      <td>24.348437</td>\n",
              "      <td>23.677883</td>\n",
              "    </tr>\n",
              "    <tr>\n",
              "      <th>R</th>\n",
              "      <td>31.717346</td>\n",
              "      <td>31.316630</td>\n",
              "      <td>11.177018</td>\n",
              "      <td>11.176513</td>\n",
              "      <td>20.513236</td>\n",
              "      <td>20.483732</td>\n",
              "      <td>15.168800</td>\n",
              "      <td>15.114102</td>\n",
              "      <td>21.423600</td>\n",
              "      <td>21.341020</td>\n",
              "    </tr>\n",
              "  </tbody>\n",
              "</table>\n",
              "</div>\n",
              "      <button class=\"colab-df-convert\" onclick=\"convertToInteractive('df-def3f9ab-0501-44f3-b1ce-f3eda203653d')\"\n",
              "              title=\"Convert this dataframe to an interactive table.\"\n",
              "              style=\"display:none;\">\n",
              "        \n",
              "  <svg xmlns=\"http://www.w3.org/2000/svg\" height=\"24px\"viewBox=\"0 0 24 24\"\n",
              "       width=\"24px\">\n",
              "    <path d=\"M0 0h24v24H0V0z\" fill=\"none\"/>\n",
              "    <path d=\"M18.56 5.44l.94 2.06.94-2.06 2.06-.94-2.06-.94-.94-2.06-.94 2.06-2.06.94zm-11 1L8.5 8.5l.94-2.06 2.06-.94-2.06-.94L8.5 2.5l-.94 2.06-2.06.94zm10 10l.94 2.06.94-2.06 2.06-.94-2.06-.94-.94-2.06-.94 2.06-2.06.94z\"/><path d=\"M17.41 7.96l-1.37-1.37c-.4-.4-.92-.59-1.43-.59-.52 0-1.04.2-1.43.59L10.3 9.45l-7.72 7.72c-.78.78-.78 2.05 0 2.83L4 21.41c.39.39.9.59 1.41.59.51 0 1.02-.2 1.41-.59l7.78-7.78 2.81-2.81c.8-.78.8-2.07 0-2.86zM5.41 20L4 18.59l7.72-7.72 1.47 1.35L5.41 20z\"/>\n",
              "  </svg>\n",
              "      </button>\n",
              "      \n",
              "  <style>\n",
              "    .colab-df-container {\n",
              "      display:flex;\n",
              "      flex-wrap:wrap;\n",
              "      gap: 12px;\n",
              "    }\n",
              "\n",
              "    .colab-df-convert {\n",
              "      background-color: #E8F0FE;\n",
              "      border: none;\n",
              "      border-radius: 50%;\n",
              "      cursor: pointer;\n",
              "      display: none;\n",
              "      fill: #1967D2;\n",
              "      height: 32px;\n",
              "      padding: 0 0 0 0;\n",
              "      width: 32px;\n",
              "    }\n",
              "\n",
              "    .colab-df-convert:hover {\n",
              "      background-color: #E2EBFA;\n",
              "      box-shadow: 0px 1px 2px rgba(60, 64, 67, 0.3), 0px 1px 3px 1px rgba(60, 64, 67, 0.15);\n",
              "      fill: #174EA6;\n",
              "    }\n",
              "\n",
              "    [theme=dark] .colab-df-convert {\n",
              "      background-color: #3B4455;\n",
              "      fill: #D2E3FC;\n",
              "    }\n",
              "\n",
              "    [theme=dark] .colab-df-convert:hover {\n",
              "      background-color: #434B5C;\n",
              "      box-shadow: 0px 1px 3px 1px rgba(0, 0, 0, 0.15);\n",
              "      filter: drop-shadow(0px 1px 2px rgba(0, 0, 0, 0.3));\n",
              "      fill: #FFFFFF;\n",
              "    }\n",
              "  </style>\n",
              "\n",
              "      <script>\n",
              "        const buttonEl =\n",
              "          document.querySelector('#df-def3f9ab-0501-44f3-b1ce-f3eda203653d button.colab-df-convert');\n",
              "        buttonEl.style.display =\n",
              "          google.colab.kernel.accessAllowed ? 'block' : 'none';\n",
              "\n",
              "        async function convertToInteractive(key) {\n",
              "          const element = document.querySelector('#df-def3f9ab-0501-44f3-b1ce-f3eda203653d');\n",
              "          const dataTable =\n",
              "            await google.colab.kernel.invokeFunction('convertToInteractive',\n",
              "                                                     [key], {});\n",
              "          if (!dataTable) return;\n",
              "\n",
              "          const docLinkHtml = 'Like what you see? Visit the ' +\n",
              "            '<a target=\"_blank\" href=https://colab.research.google.com/notebooks/data_table.ipynb>data table notebook</a>'\n",
              "            + ' to learn more about interactive tables.';\n",
              "          element.innerHTML = '';\n",
              "          dataTable['output_type'] = 'display_data';\n",
              "          await google.colab.output.renderOutput(dataTable, element);\n",
              "          const docLink = document.createElement('div');\n",
              "          docLink.innerHTML = docLinkHtml;\n",
              "          element.appendChild(docLink);\n",
              "        }\n",
              "      </script>\n",
              "    </div>\n",
              "  </div>\n",
              "  "
            ]
          },
          "metadata": {},
          "execution_count": 12
        }
      ]
    },
    {
      "cell_type": "markdown",
      "source": [
        "# Statistical Significance of Results"
      ],
      "metadata": {
        "id": "tWuc3xx3FUg9"
      }
    },
    {
      "cell_type": "markdown",
      "source": [
        "To gain a better understanding of if the results we observed in our graphs and table are truly significant, we will perform z-tests to compare each party's proportion of bachelor's degrees in each field. A z-test can be used to compare proportions between two samples and find evidence as to whether the underlying populations are different from each other.\n",
        "\n",
        "Using the statsmodels library, we will perform a z-test for each degree field, comparing the Republican and Democrat proportions. In each test, the **null** hypothesis is that the proportion of bachelor's degrees in a particular field earned by the 25+, bachelor's or higher-educated population is the same among Republican and Democrat districts. The **alternative** hypothesis is that the proportions are different. We will use a 0.01 significance level for these tests."
      ],
      "metadata": {
        "id": "bj1Qr8hSFldO"
      }
    },
    {
      "cell_type": "code",
      "source": [
        "# create subsets of the data by party affiliation\n",
        "R = merged_df.loc[merged_df['Party'] == 'R']\n",
        "D = merged_df.loc[merged_df['Party'] == 'D']"
      ],
      "metadata": {
        "id": "tkY9U8XOT_F9"
      },
      "execution_count": null,
      "outputs": []
    },
    {
      "cell_type": "code",
      "source": [
        "cols = ['% Science and Engineering', '% Science and Engineering Related', '% Business', '% Education', '% Arts, Humanities, and Other']\n",
        "\n",
        "# function to perform the two-sample z-test for each degree field, comparing Republican and Democrat districts\n",
        "for x in cols:\n",
        "  print(\"Test statistic and p-value for\", x, \":\\n\", \n",
        "        ztest(R[x], D[x], value = 0))\n"
      ],
      "metadata": {
        "colab": {
          "base_uri": "https://localhost:8080/"
        },
        "id": "aTjHFpF2YhMq",
        "outputId": "321e514a-112a-4847-abe1-3ae75289cdc7"
      },
      "execution_count": null,
      "outputs": [
        {
          "output_type": "stream",
          "name": "stdout",
          "text": [
            "Test statistic and p-value for % Science and Engineering :\n",
            " (-10.814786304485308, 2.9297467189236413e-27)\n",
            "Test statistic and p-value for % Science and Engineering Related :\n",
            " (10.992256548915222, 4.163835629703087e-28)\n",
            "Test statistic and p-value for % Business :\n",
            " (2.5517169479186173, 0.010719356451379631)\n",
            "Test statistic and p-value for % Education :\n",
            " (15.025367400932971, 5.0082885587327403e-51)\n",
            "Test statistic and p-value for % Arts, Humanities, and Other :\n",
            " (-8.523899343259037, 1.542697063782863e-17)\n"
          ]
        }
      ]
    },
    {
      "cell_type": "markdown",
      "source": [
        "At the 0.01 significance level, four of the five tests we performed yielded significant results. **We have evidence to suggest there is a significant difference in the proportion of bachelor's degrees earned in Science/Engineering, Science/Engineering Related fields, Education, and Arts/Humanities/Other fields among Democrat and Republican districts.** However, at the 0.01 level, we do not have enough evidence to state that the proportion of bachelor's degrees earned in Business is significantly different among Democrat and Republican districts.\n",
        "\n",
        "This analysis has provided several results which surprised us. Interestingly, the test which yielded the strongest results was that for Education, and the Republican districts have a significantly higher proportion of Bachelor's degrees in the Education field than the Democrat districts, which contradicts our hypothesis! It is also interesting to see that while the Democrat districts have a greater proportion of individuals who majored in Science/Engineering, the Republican districts have a greater proportion of individuals whose degrees were in a Science/Engineering Related field."
      ],
      "metadata": {
        "id": "N6hLgyK2dFXx"
      }
    },
    {
      "cell_type": "markdown",
      "source": [
        "# Sources"
      ],
      "metadata": {
        "id": "-NRpfbtV8tBj"
      }
    },
    {
      "cell_type": "markdown",
      "source": [
        "Pierce's analysis of household income in congressional districts: https://github.com/jackalnom/congressional-analysis/blob/main/intro.ipynb\n",
        "\n",
        "Bertelsen and Meltons' initial analysis of science and engineering degrees by state party affiliation: https://github.com/melissamelton/GSB521_CongressionalData/blob/main/Engineering_and_Science_Education_Among_States.ipynb\n",
        "\n",
        "American Community Survey: https://www.census.gov/data/developers/data-sets/acs-1year.html\n",
        "\n",
        "Congressional district party affiliations: http://goodcsv.com/politics/us-house-of-representatives-2020/"
      ],
      "metadata": {
        "id": "3WF9XtSo80Eu"
      }
    }
  ]
}